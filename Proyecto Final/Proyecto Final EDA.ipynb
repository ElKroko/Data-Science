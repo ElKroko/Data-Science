{
 "cells": [
  {
   "attachments": {},
   "cell_type": "markdown",
   "metadata": {},
   "source": [
    "# Proyecto Final\n",
    "\n",
    "Integrantes:\n",
    "- Kroko\n",
    "- Alan\n",
    "- Nandy"
   ]
  },
  {
   "attachments": {},
   "cell_type": "markdown",
   "metadata": {},
   "source": [
    "### Enunciado\n",
    "\n",
    "En este proyecto tendrá que trabajar con datos reales del departamento de la policía de la ciudad de nueva york y se enmarca en el contexto de seguridad y criminalidad en los barrios de la ciudad. **El objetivo de este proyecto es predecir la cantidad de delitos cada cierto tipo por barrio.**\n",
    "\n",
    "\n",
    "\n"
   ]
  },
  {
   "attachments": {},
   "cell_type": "markdown",
   "metadata": {},
   "source": [
    "El conjunto de datos a utilizar proviene de la página de datos abiertos de la ciudad de NY. (https://opendata.cityofnewyork.us) y comprenden datos desde el 2013 hasta el 2020 de arrestos, colisiones vehiculares y denuncias ciudadanas.\n",
    "\n",
    "El dataset contiene diversos registros de distintos tipos de crimenes, en este estudio debe centrarse en los siguientes:\n",
    "1. Delitos (Felonies)\n",
    "2. Faltas (Misdemeanors)\n",
    "3. Violaciones (Violations)\n",
    "\n",
    "Esta categorización puede ser encontrada en la variable \"LAW_CAT_CD\"\n",
    "\n",
    "Los barrios de estudio son:\n",
    "- Staten Island\n",
    "- Brooklyn\n",
    "- Queens\n",
    "- Manhattan\n",
    "- Bronx"
   ]
  },
  {
   "attachments": {},
   "cell_type": "markdown",
   "metadata": {},
   "source": [
    "### Requerimientos\n",
    "\n"
   ]
  },
  {
   "attachments": {},
   "cell_type": "markdown",
   "metadata": {},
   "source": [
    "1. Seleccione al menos dos barrios de la ciudad y obtenga estimaciones de la cantidad de delitos, por tipo, ocurridos en la ciudad de NY semana a semana usando como conjunto de entrenamiento toda la data hasta el 2019 y como conjunto de pruebas el año 2020 completo. Compare distintas aproximaciones de modelamiento utilizando las métricas y modelos vistos en clases aunque se permite tambien usar métricas/modelos no discutidos (siempre y cuando se utilicen de manera correcta).\n",
    "2. Deberá almacenar la informacion en una base de datos Postgres con el esquema de datos que usted prefiera\n",
    "3. Utilizando Apache Airflow, cree un DAG que contenga al menos las siguientes tasks:\n",
    "    - Data Processing: Extraerá la informacion de la based de datos Postgres\n",
    "    - Data Processing: Procesará la informacióin extraida en la etapa anterior realizando todas las tareas de ingeniería de atributos que usted estime conveniente para sus modelos\n",
    "    - Model Training: Utilizando la información generada en el punto anterior esta tasa debe ajustar los modelos a la data histórica con los hiperparámetros y configuración que usted haya estimado conveniente de su experimentación previa, una vez finalizado el entrenamiento debe almacenar el modelo donde usted estime conveniente. Este paso se debe realizar solo si no existe un modelo previamente entrenado, en cuyo caso se debe omitir este paso y pasar directamente al siguiente.\n",
    "    - Model Inference: Utilizando un modelo ya entrenado, realice inferencias sobre el conjunto de pruebas y estas sean guardadas en una tabla de postgres.\n",
    "\n",
    "4. Genere un informe breve donde se explique la metodología que utilizó para realizar los modelos justificando las decisiones tomadas a partir de lo observado en la experimientación. Explique tambien la infraestructura y el DAG generado."
   ]
  },
  {
   "attachments": {},
   "cell_type": "markdown",
   "metadata": {},
   "source": [
    "### Consideraciones:\n"
   ]
  },
  {
   "attachments": {},
   "cell_type": "markdown",
   "metadata": {},
   "source": [
    "- Se recomienda realizar la experimentación sobre los datos en Jupyter para determinar la mejor configuración de los modelos de series de tiempo, una vez que haya obtenido un modelo con resultados satisfactorios incluya esta configuración en la tasa de Model Training.\n",
    "- Sus modelos deben hacer predicciones a nivel semana, es decir, debe ser capaz de entregar para cada semana del 2020 disponible en los datos la cantidad de delitos de cada tipo que ocurrirán por barrio.\n",
    "- Note que no se especificó la forma en que se debe pasar la informacion de una task a la siguiente, esto queda a criterio del equipo ya que hay muchas formas de hacerlo. Estudie e investigue cual es la que más le conviene para su caso o considear que es correcta. Lo mismo para el modelo en si.\n",
    "- El entregable subido a aula debe contener al menos el notebook con los experimentos realizados, al menos un archivo .py con la definicion del DAG/tasks, el informe en formato PDF, un dump de la base de datos en formato .sql con las tablas que haya utilizado ya pobladas junto con un archivo en formato .txt o .json con la información necesaria para conectarse a la base de datos, y en caso de ser necesario, el modelo entrenado.\n",
    "- Puesto que le pide usar una base de datos para almacenar la informacion durante las tasks necesitará hacer una conexión desde Python a Postgres: Queda prohibido incluir información sensible sobre la conexión al motor en los archivos .py, se le sugiere crear un archivo de configuracion en formato .json  (o el que guste) y que este sea leido simplemente desde el codigo, demas esta decir que si usa alguna herramienta de versionamiento de codigo ese archivo no deberia ser subido aunque para los efectos de la tarea subalo junto con el resto de los entregables. \n",
    "- Entregar codigo con informacion sensible sobre las conexiones al motor incurrirá en descuentos de puntaje\n",
    "- Algo que le sera util es usar Docker.\n",
    "- Este proyecto puede ser realizado en grupos de máximo tres personas."
   ]
  },
  {
   "attachments": {},
   "cell_type": "markdown",
   "metadata": {},
   "source": [
    "## Pregunta 1: "
   ]
  },
  {
   "attachments": {},
   "cell_type": "markdown",
   "metadata": {},
   "source": [
    "Selección de barrios y exploración de datos"
   ]
  },
  {
   "cell_type": "code",
   "execution_count": 1,
   "metadata": {},
   "outputs": [],
   "source": [
    "import pandas as pd\n",
    "import sklearn\n",
    "import numpy as np\n",
    "import scipy\n",
    "import matplotlib.pyplot as plt\n",
    "import seaborn as sns"
   ]
  },
  {
   "attachments": {},
   "cell_type": "markdown",
   "metadata": {},
   "source": [
    "Seleccionamos del dataset aquellos registros de 2019 y 2020 para su posterior uso"
   ]
  },
  {
   "cell_type": "code",
   "execution_count": 7,
   "metadata": {},
   "outputs": [
    {
     "data": {
      "text/html": [
       "<div>\n",
       "<style scoped>\n",
       "    .dataframe tbody tr th:only-of-type {\n",
       "        vertical-align: middle;\n",
       "    }\n",
       "\n",
       "    .dataframe tbody tr th {\n",
       "        vertical-align: top;\n",
       "    }\n",
       "\n",
       "    .dataframe thead th {\n",
       "        text-align: right;\n",
       "    }\n",
       "</style>\n",
       "<table border=\"1\" class=\"dataframe\">\n",
       "  <thead>\n",
       "    <tr style=\"text-align: right;\">\n",
       "      <th></th>\n",
       "      <th>ARREST_KEY</th>\n",
       "      <th>ARREST_DATE</th>\n",
       "      <th>PD_CD</th>\n",
       "      <th>PD_DESC</th>\n",
       "      <th>KY_CD</th>\n",
       "      <th>OFNS_DESC</th>\n",
       "      <th>LAW_CODE</th>\n",
       "      <th>LAW_CAT_CD</th>\n",
       "      <th>ARREST_BORO</th>\n",
       "      <th>ARREST_PRECINCT</th>\n",
       "      <th>JURISDICTION_CODE</th>\n",
       "      <th>AGE_GROUP</th>\n",
       "      <th>PERP_SEX</th>\n",
       "      <th>PERP_RACE</th>\n",
       "      <th>X_COORD_CD</th>\n",
       "      <th>Y_COORD_CD</th>\n",
       "      <th>Latitude</th>\n",
       "      <th>Longitude</th>\n",
       "      <th>Lon_Lat</th>\n",
       "    </tr>\n",
       "  </thead>\n",
       "  <tbody>\n",
       "    <tr>\n",
       "      <th>0</th>\n",
       "      <td>32311380</td>\n",
       "      <td>06/18/2007</td>\n",
       "      <td>511.0</td>\n",
       "      <td>CONTROLLED SUBSTANCE, POSSESSION 7</td>\n",
       "      <td>235.0</td>\n",
       "      <td>DANGEROUS DRUGS</td>\n",
       "      <td>PL 2200300</td>\n",
       "      <td>M</td>\n",
       "      <td>Q</td>\n",
       "      <td>27</td>\n",
       "      <td>1.0</td>\n",
       "      <td>18-24</td>\n",
       "      <td>M</td>\n",
       "      <td>BLACK</td>\n",
       "      <td>NaN</td>\n",
       "      <td>NaN</td>\n",
       "      <td>NaN</td>\n",
       "      <td>NaN</td>\n",
       "      <td>NaN</td>\n",
       "    </tr>\n",
       "    <tr>\n",
       "      <th>1</th>\n",
       "      <td>192799737</td>\n",
       "      <td>01/26/2019</td>\n",
       "      <td>177.0</td>\n",
       "      <td>SEXUAL ABUSE</td>\n",
       "      <td>116.0</td>\n",
       "      <td>SEX CRIMES</td>\n",
       "      <td>PL 1306503</td>\n",
       "      <td>F</td>\n",
       "      <td>M</td>\n",
       "      <td>25</td>\n",
       "      <td>0.0</td>\n",
       "      <td>45-64</td>\n",
       "      <td>M</td>\n",
       "      <td>BLACK</td>\n",
       "      <td>1000555.0</td>\n",
       "      <td>230994.0</td>\n",
       "      <td>40.800694</td>\n",
       "      <td>-73.941109</td>\n",
       "      <td>POINT (-73.94110928599997 40.800694331000045)</td>\n",
       "    </tr>\n",
       "    <tr>\n",
       "      <th>2</th>\n",
       "      <td>193260691</td>\n",
       "      <td>02/06/2019</td>\n",
       "      <td>NaN</td>\n",
       "      <td>NaN</td>\n",
       "      <td>NaN</td>\n",
       "      <td>NaN</td>\n",
       "      <td>PL 2203400</td>\n",
       "      <td>F</td>\n",
       "      <td>M</td>\n",
       "      <td>14</td>\n",
       "      <td>0.0</td>\n",
       "      <td>25-44</td>\n",
       "      <td>M</td>\n",
       "      <td>UNKNOWN</td>\n",
       "      <td>986685.0</td>\n",
       "      <td>215375.0</td>\n",
       "      <td>40.757839</td>\n",
       "      <td>-73.991212</td>\n",
       "      <td>POINT (-73.99121211099998 40.75783900300007)</td>\n",
       "    </tr>\n",
       "    <tr>\n",
       "      <th>3</th>\n",
       "      <td>149117452</td>\n",
       "      <td>01/06/2016</td>\n",
       "      <td>153.0</td>\n",
       "      <td>RAPE 3</td>\n",
       "      <td>104.0</td>\n",
       "      <td>RAPE</td>\n",
       "      <td>PL 1302503</td>\n",
       "      <td>F</td>\n",
       "      <td>K</td>\n",
       "      <td>67</td>\n",
       "      <td>0.0</td>\n",
       "      <td>25-44</td>\n",
       "      <td>M</td>\n",
       "      <td>BLACK</td>\n",
       "      <td>998032.0</td>\n",
       "      <td>175598.0</td>\n",
       "      <td>40.648650</td>\n",
       "      <td>-73.950336</td>\n",
       "      <td>POINT (-73.95033556299995 40.648650085000035)</td>\n",
       "    </tr>\n",
       "    <tr>\n",
       "      <th>4</th>\n",
       "      <td>190049060</td>\n",
       "      <td>11/15/2018</td>\n",
       "      <td>157.0</td>\n",
       "      <td>RAPE 1</td>\n",
       "      <td>104.0</td>\n",
       "      <td>RAPE</td>\n",
       "      <td>PL 1303501</td>\n",
       "      <td>F</td>\n",
       "      <td>K</td>\n",
       "      <td>77</td>\n",
       "      <td>0.0</td>\n",
       "      <td>25-44</td>\n",
       "      <td>M</td>\n",
       "      <td>BLACK</td>\n",
       "      <td>1003606.0</td>\n",
       "      <td>185050.0</td>\n",
       "      <td>40.674583</td>\n",
       "      <td>-73.930222</td>\n",
       "      <td>POINT (-73.93022154099998 40.67458330800008)</td>\n",
       "    </tr>\n",
       "  </tbody>\n",
       "</table>\n",
       "</div>"
      ],
      "text/plain": [
       "   ARREST_KEY ARREST_DATE  PD_CD                             PD_DESC  KY_CD  \\\n",
       "0    32311380  06/18/2007  511.0  CONTROLLED SUBSTANCE, POSSESSION 7  235.0   \n",
       "1   192799737  01/26/2019  177.0                        SEXUAL ABUSE  116.0   \n",
       "2   193260691  02/06/2019    NaN                                 NaN    NaN   \n",
       "3   149117452  01/06/2016  153.0                              RAPE 3  104.0   \n",
       "4   190049060  11/15/2018  157.0                              RAPE 1  104.0   \n",
       "\n",
       "         OFNS_DESC    LAW_CODE LAW_CAT_CD ARREST_BORO  ARREST_PRECINCT  \\\n",
       "0  DANGEROUS DRUGS  PL 2200300          M           Q               27   \n",
       "1       SEX CRIMES  PL 1306503          F           M               25   \n",
       "2              NaN  PL 2203400          F           M               14   \n",
       "3             RAPE  PL 1302503          F           K               67   \n",
       "4             RAPE  PL 1303501          F           K               77   \n",
       "\n",
       "   JURISDICTION_CODE AGE_GROUP PERP_SEX PERP_RACE  X_COORD_CD  Y_COORD_CD  \\\n",
       "0                1.0     18-24        M     BLACK         NaN         NaN   \n",
       "1                0.0     45-64        M     BLACK   1000555.0    230994.0   \n",
       "2                0.0     25-44        M   UNKNOWN    986685.0    215375.0   \n",
       "3                0.0     25-44        M     BLACK    998032.0    175598.0   \n",
       "4                0.0     25-44        M     BLACK   1003606.0    185050.0   \n",
       "\n",
       "    Latitude  Longitude                                        Lon_Lat  \n",
       "0        NaN        NaN                                            NaN  \n",
       "1  40.800694 -73.941109  POINT (-73.94110928599997 40.800694331000045)  \n",
       "2  40.757839 -73.991212   POINT (-73.99121211099998 40.75783900300007)  \n",
       "3  40.648650 -73.950336  POINT (-73.95033556299995 40.648650085000035)  \n",
       "4  40.674583 -73.930222   POINT (-73.93022154099998 40.67458330800008)  "
      ]
     },
     "execution_count": 7,
     "metadata": {},
     "output_type": "execute_result"
    }
   ],
   "source": [
    "# ya que debemos ocupar el 2019 como entrenamiento, y el 2020 como prueba, vamos a sacar slices de la data.\n",
    "\n",
    "df = pd.read_csv(\"./Data/NYPD_Arrests_Data__Historic_.csv\")\n",
    "df.head()"
   ]
  },
  {
   "cell_type": "code",
   "execution_count": 8,
   "metadata": {},
   "outputs": [
    {
     "name": "stdout",
     "output_type": "stream",
     "text": [
      "<class 'pandas.core.frame.DataFrame'>\n",
      "Int64Index: 214617 entries, 1 to 215272\n",
      "Data columns (total 19 columns):\n",
      " #   Column             Non-Null Count   Dtype         \n",
      "---  ------             --------------   -----         \n",
      " 0   ARREST_KEY         214617 non-null  int64         \n",
      " 1   ARREST_DATE        214617 non-null  datetime64[ns]\n",
      " 2   PD_CD              214576 non-null  float64       \n",
      " 3   PD_DESC            214458 non-null  object        \n",
      " 4   KY_CD              214458 non-null  float64       \n",
      " 5   OFNS_DESC          214458 non-null  object        \n",
      " 6   LAW_CODE           214617 non-null  object        \n",
      " 7   LAW_CAT_CD         213248 non-null  object        \n",
      " 8   ARREST_BORO        214617 non-null  object        \n",
      " 9   ARREST_PRECINCT    214617 non-null  int64         \n",
      " 10  JURISDICTION_CODE  214617 non-null  float64       \n",
      " 11  AGE_GROUP          214617 non-null  object        \n",
      " 12  PERP_SEX           214617 non-null  object        \n",
      " 13  PERP_RACE          214617 non-null  object        \n",
      " 14  X_COORD_CD         214617 non-null  float64       \n",
      " 15  Y_COORD_CD         214617 non-null  float64       \n",
      " 16  Latitude           214617 non-null  float64       \n",
      " 17  Longitude          214617 non-null  float64       \n",
      " 18  Lon_Lat            214617 non-null  object        \n",
      "dtypes: datetime64[ns](1), float64(7), int64(2), object(9)\n",
      "memory usage: 32.7+ MB\n"
     ]
    }
   ],
   "source": [
    "df[\"ARREST_DATE\"] = pd.to_datetime(df[\"ARREST_DATE\"])\n",
    "df_2019 = df[df[\"ARREST_DATE\"].dt.year == 2019]\n",
    "df_2020 = df[df[\"ARREST_DATE\"].dt.year == 2020]\n",
    "df_2019.info()"
   ]
  },
  {
   "cell_type": "code",
   "execution_count": 9,
   "metadata": {},
   "outputs": [],
   "source": [
    "## Lo guardamos en un CSV para su manipulación:\n",
    "\n",
    "df_2019.to_csv(\"./Data/NYPD_ARRESTS_DATA_2019.csv\", index=False)\n",
    "df_2020.to_csv(\"./Data/NYPD_ARRESTS_DATA_2020.csv\", index=False)"
   ]
  },
  {
   "attachments": {},
   "cell_type": "markdown",
   "metadata": {},
   "source": [
    "### EDA:"
   ]
  },
  {
   "cell_type": "code",
   "execution_count": 14,
   "metadata": {},
   "outputs": [
    {
     "name": "stdout",
     "output_type": "stream",
     "text": [
      "Train data:  (214617, 19)\n",
      "Test data:  (140413, 19)\n"
     ]
    }
   ],
   "source": [
    "## Revisamos los datasets para Train y Test\n",
    "\n",
    "df_2019 = pd.read_csv(\"./Data/NYPD_ARRESTS_DATA_2019.csv\")\n",
    "df_2020 = pd.read_csv(\"./Data/NYPD_ARRESTS_DATA_2020.csv\")\n",
    "\n",
    "print(\"Train data: \", df_2019.shape)\n",
    "print(\"Test data: \",df_2020.shape)"
   ]
  },
  {
   "attachments": {},
   "cell_type": "markdown",
   "metadata": {},
   "source": [
    "Data Cleaning:"
   ]
  },
  {
   "cell_type": "code",
   "execution_count": 24,
   "metadata": {},
   "outputs": [
    {
     "name": "stdout",
     "output_type": "stream",
     "text": [
      "Train missing values:\n",
      "ARREST_KEY              0\n",
      "ARREST_DATE             0\n",
      "PD_CD                  41\n",
      "PD_DESC               159\n",
      "KY_CD                 159\n",
      "OFNS_DESC             159\n",
      "LAW_CODE                0\n",
      "LAW_CAT_CD           1369\n",
      "ARREST_BORO             0\n",
      "ARREST_PRECINCT         0\n",
      "JURISDICTION_CODE       0\n",
      "AGE_GROUP               0\n",
      "PERP_SEX                0\n",
      "PERP_RACE               0\n",
      "X_COORD_CD              0\n",
      "Y_COORD_CD              0\n",
      "Latitude                0\n",
      "Longitude               0\n",
      "Lon_Lat                 0\n",
      "dtype: int64\n",
      "\n",
      "Test missing values:\n",
      "ARREST_KEY              0\n",
      "ARREST_DATE             0\n",
      "PD_CD                  23\n",
      "PD_DESC                37\n",
      "KY_CD                  37\n",
      "OFNS_DESC              37\n",
      "LAW_CODE                0\n",
      "LAW_CAT_CD           1389\n",
      "ARREST_BORO             0\n",
      "ARREST_PRECINCT         0\n",
      "JURISDICTION_CODE       0\n",
      "AGE_GROUP               0\n",
      "PERP_SEX                0\n",
      "PERP_RACE               0\n",
      "X_COORD_CD              0\n",
      "Y_COORD_CD              0\n",
      "Latitude                0\n",
      "Longitude               0\n",
      "Lon_Lat                 0\n",
      "dtype: int64\n",
      "\n",
      "Train duplicated:  0\n",
      "Test duplicated:  0\n"
     ]
    }
   ],
   "source": [
    "print(\"Train missing values:\")\n",
    "print(df_2019.isnull().sum())\n",
    "print()\n",
    "print(\"Test missing values:\")\n",
    "print(df_2020.isnull().sum())\n",
    "print()\n",
    "print(\"Train duplicated: \", df_2019.duplicated().sum())\n",
    "print(\"Test duplicated: \", df_2020.duplicated().sum())"
   ]
  },
  {
   "cell_type": "code",
   "execution_count": 21,
   "metadata": {},
   "outputs": [
    {
     "data": {
      "text/plain": [
       "ARREST_KEY             int64\n",
       "ARREST_DATE           object\n",
       "PD_CD                float64\n",
       "PD_DESC               object\n",
       "KY_CD                float64\n",
       "OFNS_DESC             object\n",
       "LAW_CODE              object\n",
       "LAW_CAT_CD            object\n",
       "ARREST_BORO           object\n",
       "ARREST_PRECINCT        int64\n",
       "JURISDICTION_CODE    float64\n",
       "AGE_GROUP             object\n",
       "PERP_SEX              object\n",
       "PERP_RACE             object\n",
       "X_COORD_CD           float64\n",
       "Y_COORD_CD           float64\n",
       "Latitude             float64\n",
       "Longitude            float64\n",
       "Lon_Lat               object\n",
       "dtype: object"
      ]
     },
     "execution_count": 21,
     "metadata": {},
     "output_type": "execute_result"
    }
   ],
   "source": [
    "df_2019.dtypes"
   ]
  },
  {
   "cell_type": "code",
   "execution_count": 29,
   "metadata": {},
   "outputs": [
    {
     "name": "stdout",
     "output_type": "stream",
     "text": [
      "Misdemeanor    126609\n",
      "Felony          83384\n",
      "Violation        2822\n",
      "I                 433\n",
      "Name: LAW_CAT_CD, dtype: int64\n"
     ]
    },
    {
     "data": {
      "text/html": [
       "<div>\n",
       "<style scoped>\n",
       "    .dataframe tbody tr th:only-of-type {\n",
       "        vertical-align: middle;\n",
       "    }\n",
       "\n",
       "    .dataframe tbody tr th {\n",
       "        vertical-align: top;\n",
       "    }\n",
       "\n",
       "    .dataframe thead th {\n",
       "        text-align: right;\n",
       "    }\n",
       "</style>\n",
       "<table border=\"1\" class=\"dataframe\">\n",
       "  <thead>\n",
       "    <tr style=\"text-align: right;\">\n",
       "      <th></th>\n",
       "      <th>ARREST_KEY</th>\n",
       "      <th>ARREST_DATE</th>\n",
       "      <th>PD_CD</th>\n",
       "      <th>PD_DESC</th>\n",
       "      <th>KY_CD</th>\n",
       "      <th>OFNS_DESC</th>\n",
       "      <th>LAW_CODE</th>\n",
       "      <th>LAW_CAT_CD</th>\n",
       "      <th>ARREST_BORO</th>\n",
       "      <th>ARREST_PRECINCT</th>\n",
       "      <th>JURISDICTION_CODE</th>\n",
       "      <th>AGE_GROUP</th>\n",
       "      <th>PERP_SEX</th>\n",
       "      <th>PERP_RACE</th>\n",
       "      <th>X_COORD_CD</th>\n",
       "      <th>Y_COORD_CD</th>\n",
       "      <th>Latitude</th>\n",
       "      <th>Longitude</th>\n",
       "      <th>Lon_Lat</th>\n",
       "    </tr>\n",
       "  </thead>\n",
       "  <tbody>\n",
       "    <tr>\n",
       "      <th>0</th>\n",
       "      <td>192799737</td>\n",
       "      <td>2019-01-26</td>\n",
       "      <td>177.0</td>\n",
       "      <td>SEXUAL ABUSE</td>\n",
       "      <td>116.0</td>\n",
       "      <td>SEX CRIMES</td>\n",
       "      <td>PL 1306503</td>\n",
       "      <td>Felony</td>\n",
       "      <td>M</td>\n",
       "      <td>25</td>\n",
       "      <td>0.0</td>\n",
       "      <td>45-64</td>\n",
       "      <td>M</td>\n",
       "      <td>BLACK</td>\n",
       "      <td>1000555.0</td>\n",
       "      <td>230994.0</td>\n",
       "      <td>40.800694</td>\n",
       "      <td>-73.941109</td>\n",
       "      <td>POINT (-73.94110928599997 40.800694331000045)</td>\n",
       "    </tr>\n",
       "    <tr>\n",
       "      <th>1</th>\n",
       "      <td>193260691</td>\n",
       "      <td>2019-02-06</td>\n",
       "      <td>NaN</td>\n",
       "      <td>NaN</td>\n",
       "      <td>NaN</td>\n",
       "      <td>NaN</td>\n",
       "      <td>PL 2203400</td>\n",
       "      <td>Felony</td>\n",
       "      <td>M</td>\n",
       "      <td>14</td>\n",
       "      <td>0.0</td>\n",
       "      <td>25-44</td>\n",
       "      <td>M</td>\n",
       "      <td>UNKNOWN</td>\n",
       "      <td>986685.0</td>\n",
       "      <td>215375.0</td>\n",
       "      <td>40.757839</td>\n",
       "      <td>-73.991212</td>\n",
       "      <td>POINT (-73.99121211099998 40.75783900300007)</td>\n",
       "    </tr>\n",
       "    <tr>\n",
       "      <th>2</th>\n",
       "      <td>196324211</td>\n",
       "      <td>2019-04-23</td>\n",
       "      <td>157.0</td>\n",
       "      <td>RAPE 1</td>\n",
       "      <td>104.0</td>\n",
       "      <td>RAPE</td>\n",
       "      <td>PL 1303501</td>\n",
       "      <td>Felony</td>\n",
       "      <td>K</td>\n",
       "      <td>77</td>\n",
       "      <td>0.0</td>\n",
       "      <td>45-64</td>\n",
       "      <td>M</td>\n",
       "      <td>BLACK HISPANIC</td>\n",
       "      <td>1003606.0</td>\n",
       "      <td>185050.0</td>\n",
       "      <td>40.674583</td>\n",
       "      <td>-73.930222</td>\n",
       "      <td>POINT (-73.93022154099998 40.67458330800008)</td>\n",
       "    </tr>\n",
       "    <tr>\n",
       "      <th>3</th>\n",
       "      <td>196785901</td>\n",
       "      <td>2019-05-04</td>\n",
       "      <td>175.0</td>\n",
       "      <td>SEXUAL ABUSE 3,2</td>\n",
       "      <td>233.0</td>\n",
       "      <td>SEX CRIMES</td>\n",
       "      <td>PL 13052A1</td>\n",
       "      <td>Misdemeanor</td>\n",
       "      <td>B</td>\n",
       "      <td>50</td>\n",
       "      <td>0.0</td>\n",
       "      <td>25-44</td>\n",
       "      <td>M</td>\n",
       "      <td>BLACK</td>\n",
       "      <td>1011257.0</td>\n",
       "      <td>261130.0</td>\n",
       "      <td>40.883383</td>\n",
       "      <td>-73.902333</td>\n",
       "      <td>POINT (-73.90233330899997 40.88338257900006)</td>\n",
       "    </tr>\n",
       "    <tr>\n",
       "      <th>4</th>\n",
       "      <td>197554056</td>\n",
       "      <td>2019-05-23</td>\n",
       "      <td>175.0</td>\n",
       "      <td>SEXUAL ABUSE 3,2</td>\n",
       "      <td>233.0</td>\n",
       "      <td>SEX CRIMES</td>\n",
       "      <td>PL 13052A1</td>\n",
       "      <td>Misdemeanor</td>\n",
       "      <td>M</td>\n",
       "      <td>26</td>\n",
       "      <td>0.0</td>\n",
       "      <td>45-64</td>\n",
       "      <td>F</td>\n",
       "      <td>BLACK</td>\n",
       "      <td>996241.0</td>\n",
       "      <td>236149.0</td>\n",
       "      <td>40.814850</td>\n",
       "      <td>-73.956682</td>\n",
       "      <td>POINT (-73.95668184799996 40.81485028900005)</td>\n",
       "    </tr>\n",
       "  </tbody>\n",
       "</table>\n",
       "</div>"
      ],
      "text/plain": [
       "   ARREST_KEY ARREST_DATE  PD_CD           PD_DESC  KY_CD   OFNS_DESC  \\\n",
       "0   192799737  2019-01-26  177.0      SEXUAL ABUSE  116.0  SEX CRIMES   \n",
       "1   193260691  2019-02-06    NaN               NaN    NaN         NaN   \n",
       "2   196324211  2019-04-23  157.0            RAPE 1  104.0        RAPE   \n",
       "3   196785901  2019-05-04  175.0  SEXUAL ABUSE 3,2  233.0  SEX CRIMES   \n",
       "4   197554056  2019-05-23  175.0  SEXUAL ABUSE 3,2  233.0  SEX CRIMES   \n",
       "\n",
       "     LAW_CODE   LAW_CAT_CD ARREST_BORO  ARREST_PRECINCT  JURISDICTION_CODE  \\\n",
       "0  PL 1306503       Felony           M               25                0.0   \n",
       "1  PL 2203400       Felony           M               14                0.0   \n",
       "2  PL 1303501       Felony           K               77                0.0   \n",
       "3  PL 13052A1  Misdemeanor           B               50                0.0   \n",
       "4  PL 13052A1  Misdemeanor           M               26                0.0   \n",
       "\n",
       "  AGE_GROUP PERP_SEX       PERP_RACE  X_COORD_CD  Y_COORD_CD   Latitude  \\\n",
       "0     45-64        M           BLACK   1000555.0    230994.0  40.800694   \n",
       "1     25-44        M         UNKNOWN    986685.0    215375.0  40.757839   \n",
       "2     45-64        M  BLACK HISPANIC   1003606.0    185050.0  40.674583   \n",
       "3     25-44        M           BLACK   1011257.0    261130.0  40.883383   \n",
       "4     45-64        F           BLACK    996241.0    236149.0  40.814850   \n",
       "\n",
       "   Longitude                                        Lon_Lat  \n",
       "0 -73.941109  POINT (-73.94110928599997 40.800694331000045)  \n",
       "1 -73.991212   POINT (-73.99121211099998 40.75783900300007)  \n",
       "2 -73.930222   POINT (-73.93022154099998 40.67458330800008)  \n",
       "3 -73.902333   POINT (-73.90233330899997 40.88338257900006)  \n",
       "4 -73.956682   POINT (-73.95668184799996 40.81485028900005)  "
      ]
     },
     "execution_count": 29,
     "metadata": {},
     "output_type": "execute_result"
    }
   ],
   "source": [
    "# Convertiremos estos datos en algo legible a continuacion:\n",
    "\n",
    "df_2019[\"LAW_CAT_CD\"] = df_2019[\"LAW_CAT_CD\"].replace({\"F\": \"Felony\", \"M\": \"Misdemeanor\", \"V\": \"Violation\"})\n",
    "df_2020[\"LAW_CAT_CD\"] = df_2020[\"LAW_CAT_CD\"].replace({\"F\": \"Felony\", \"M\": \"Misdemeanor\", \"V\": \"Violation\"})\n",
    "print(df_2019[\"LAW_CAT_CD\"].value_counts())\n",
    "df_2019.head()\n"
   ]
  },
  {
   "attachments": {},
   "cell_type": "markdown",
   "metadata": {},
   "source": [
    "Ahora si, la 1\n"
   ]
  },
  {
   "cell_type": "code",
   "execution_count": 34,
   "metadata": {},
   "outputs": [],
   "source": [
    "train_data = df_2019.copy()\n",
    "train_data['ARREST_DATE'] = pd.to_datetime(train_data['ARREST_DATE'])\n",
    "\n",
    "test_data = df_2020.copy()\n",
    "test_data['ARREST_DATE'] = pd.to_datetime(test_data['ARREST_DATE'])\n",
    "\n",
    "\n",
    "train_arrest_count = train_data.groupby([pd.Grouper(key='ARREST_DATE', freq='M'), 'LAW_CAT_CD', 'ARREST_BORO']).size().reset_index(name='ARREST_COUNT')\n",
    "train_arrest_pivot = train_arrest_count.pivot(index='ARREST_DATE', columns=['LAW_CAT_CD', 'ARREST_BORO'], values='ARREST_COUNT')\n",
    "\n",
    "test_arrest_count = test_data.groupby([pd.Grouper(key='ARREST_DATE', freq='M'), 'LAW_CAT_CD', 'ARREST_BORO']).size().reset_index(name='ARREST_COUNT')\n",
    "test_arrest_pivot = test_arrest_count.pivot(index='ARREST_DATE', columns=['LAW_CAT_CD', 'ARREST_BORO'], values='ARREST_COUNT')"
   ]
  },
  {
   "cell_type": "code",
   "execution_count": 30,
   "metadata": {},
   "outputs": [
    {
     "name": "stdout",
     "output_type": "stream",
     "text": [
      "Collecting statsmodels\n",
      "  Downloading statsmodels-0.14.0-cp311-cp311-win_amd64.whl (9.2 MB)\n",
      "     ---------------------------------------- 9.2/9.2 MB 11.3 MB/s eta 0:00:00\n",
      "Requirement already satisfied: numpy>=1.18 in c:\\users\\n3mes\\miniconda3\\envs\\ds\\lib\\site-packages (from statsmodels) (1.24.3)\n",
      "Requirement already satisfied: scipy!=1.9.2,>=1.4 in c:\\users\\n3mes\\miniconda3\\envs\\ds\\lib\\site-packages (from statsmodels) (1.10.1)\n",
      "Requirement already satisfied: pandas>=1.0 in c:\\users\\n3mes\\miniconda3\\envs\\ds\\lib\\site-packages (from statsmodels) (1.5.3)\n",
      "Collecting patsy>=0.5.2\n",
      "  Downloading patsy-0.5.3-py2.py3-none-any.whl (233 kB)\n",
      "     ------------------------------------- 233.8/233.8 kB 14.9 MB/s eta 0:00:00\n",
      "Requirement already satisfied: packaging>=21.3 in c:\\users\\n3mes\\miniconda3\\envs\\ds\\lib\\site-packages (from statsmodels) (23.1)\n",
      "Requirement already satisfied: python-dateutil>=2.8.1 in c:\\users\\n3mes\\miniconda3\\envs\\ds\\lib\\site-packages (from pandas>=1.0->statsmodels) (2.8.2)\n",
      "Requirement already satisfied: pytz>=2020.1 in c:\\users\\n3mes\\miniconda3\\envs\\ds\\lib\\site-packages (from pandas>=1.0->statsmodels) (2022.7)\n",
      "Requirement already satisfied: six in c:\\users\\n3mes\\miniconda3\\envs\\ds\\lib\\site-packages (from patsy>=0.5.2->statsmodels) (1.16.0)\n",
      "Installing collected packages: patsy, statsmodels\n",
      "Successfully installed patsy-0.5.3 statsmodels-0.14.0\n",
      "Note: you may need to restart the kernel to use updated packages.\n",
      "Collecting prophet\n",
      "  Downloading prophet-1.1.4-py3-none-win_amd64.whl (12.9 MB)\n",
      "     --------------------------------------- 12.9/12.9 MB 10.7 MB/s eta 0:00:00\n",
      "Collecting cmdstanpy>=1.0.4\n",
      "  Downloading cmdstanpy-1.1.0-py3-none-any.whl (83 kB)\n",
      "     ---------------------------------------- 83.2/83.2 kB 4.9 MB/s eta 0:00:00\n",
      "Requirement already satisfied: numpy>=1.15.4 in c:\\users\\n3mes\\miniconda3\\envs\\ds\\lib\\site-packages (from prophet) (1.24.3)\n",
      "Requirement already satisfied: matplotlib>=2.0.0 in c:\\users\\n3mes\\miniconda3\\envs\\ds\\lib\\site-packages (from prophet) (3.7.1)\n",
      "Requirement already satisfied: pandas>=1.0.4 in c:\\users\\n3mes\\miniconda3\\envs\\ds\\lib\\site-packages (from prophet) (1.5.3)\n",
      "Collecting LunarCalendar>=0.0.9\n",
      "  Downloading LunarCalendar-0.0.9-py2.py3-none-any.whl (18 kB)\n",
      "Collecting convertdate>=2.1.2\n",
      "  Downloading convertdate-2.4.0-py3-none-any.whl (47 kB)\n",
      "     ---------------------------------------- 47.9/47.9 kB ? eta 0:00:00\n",
      "Collecting holidays>=0.25\n",
      "  Downloading holidays-0.27.1-py3-none-any.whl (598 kB)\n",
      "     -------------------------------------- 598.5/598.5 kB 9.5 MB/s eta 0:00:00\n",
      "Requirement already satisfied: python-dateutil>=2.8.0 in c:\\users\\n3mes\\miniconda3\\envs\\ds\\lib\\site-packages (from prophet) (2.8.2)\n",
      "Requirement already satisfied: tqdm>=4.36.1 in c:\\users\\n3mes\\miniconda3\\envs\\ds\\lib\\site-packages (from prophet) (4.65.0)\n",
      "Collecting importlib-resources\n",
      "  Downloading importlib_resources-5.12.0-py3-none-any.whl (36 kB)\n",
      "Collecting pymeeus<=1,>=0.3.13\n",
      "  Downloading PyMeeus-0.5.12.tar.gz (5.8 MB)\n",
      "     ---------------------------------------- 5.8/5.8 MB 10.5 MB/s eta 0:00:00\n",
      "  Preparing metadata (setup.py): started\n",
      "  Preparing metadata (setup.py): finished with status 'done'\n",
      "Collecting ephem>=3.7.5.3\n",
      "  Downloading ephem-4.1.4-cp311-cp311-win_amd64.whl (1.4 MB)\n",
      "     ---------------------------------------- 1.4/1.4 MB 10.0 MB/s eta 0:00:00\n",
      "Requirement already satisfied: pytz in c:\\users\\n3mes\\miniconda3\\envs\\ds\\lib\\site-packages (from LunarCalendar>=0.0.9->prophet) (2022.7)\n",
      "Requirement already satisfied: contourpy>=1.0.1 in c:\\users\\n3mes\\miniconda3\\envs\\ds\\lib\\site-packages (from matplotlib>=2.0.0->prophet) (1.0.7)\n",
      "Requirement already satisfied: cycler>=0.10 in c:\\users\\n3mes\\miniconda3\\envs\\ds\\lib\\site-packages (from matplotlib>=2.0.0->prophet) (0.11.0)\n",
      "Requirement already satisfied: fonttools>=4.22.0 in c:\\users\\n3mes\\miniconda3\\envs\\ds\\lib\\site-packages (from matplotlib>=2.0.0->prophet) (4.39.4)\n",
      "Requirement already satisfied: kiwisolver>=1.0.1 in c:\\users\\n3mes\\miniconda3\\envs\\ds\\lib\\site-packages (from matplotlib>=2.0.0->prophet) (1.4.4)\n",
      "Requirement already satisfied: packaging>=20.0 in c:\\users\\n3mes\\miniconda3\\envs\\ds\\lib\\site-packages (from matplotlib>=2.0.0->prophet) (23.1)\n",
      "Requirement already satisfied: pillow>=6.2.0 in c:\\users\\n3mes\\miniconda3\\envs\\ds\\lib\\site-packages (from matplotlib>=2.0.0->prophet) (9.5.0)\n",
      "Requirement already satisfied: pyparsing>=2.3.1 in c:\\users\\n3mes\\miniconda3\\envs\\ds\\lib\\site-packages (from matplotlib>=2.0.0->prophet) (3.0.9)\n",
      "Requirement already satisfied: six>=1.5 in c:\\users\\n3mes\\miniconda3\\envs\\ds\\lib\\site-packages (from python-dateutil>=2.8.0->prophet) (1.16.0)\n",
      "Requirement already satisfied: colorama in c:\\users\\n3mes\\miniconda3\\envs\\ds\\lib\\site-packages (from tqdm>=4.36.1->prophet) (0.4.6)\n",
      "Building wheels for collected packages: pymeeus\n",
      "  Building wheel for pymeeus (setup.py): started\n",
      "  Building wheel for pymeeus (setup.py): finished with status 'done'\n",
      "  Created wheel for pymeeus: filename=PyMeeus-0.5.12-py3-none-any.whl size=732051 sha256=99c7f8dcabf32e83578f34b17864631ba93b7a6dceee493ddd4db513dd5b03a8\n",
      "  Stored in directory: c:\\users\\n3mes\\appdata\\local\\pip\\cache\\wheels\\8f\\bd\\f9\\5c4c39b529e0322b08979e1c465e203218bc2cca75d20f7df5\n",
      "Successfully built pymeeus\n",
      "Installing collected packages: pymeeus, ephem, importlib-resources, convertdate, LunarCalendar, holidays, cmdstanpy, prophet\n",
      "Successfully installed LunarCalendar-0.0.9 cmdstanpy-1.1.0 convertdate-2.4.0 ephem-4.1.4 holidays-0.27.1 importlib-resources-5.12.0 prophet-1.1.4 pymeeus-0.5.12\n",
      "Note: you may need to restart the kernel to use updated packages.\n"
     ]
    }
   ],
   "source": [
    "%pip install statsmodels\n",
    "%pip install prophet"
   ]
  },
  {
   "cell_type": "code",
   "execution_count": null,
   "metadata": {},
   "outputs": [],
   "source": [
    "from statsmodels.tsa.arima.model import ARIMA\n",
    "\n",
    "# Example for modeling arrests for Felony offenses in Manhattan\n",
    "data = train_arrest_pivot[('ARREST_COUNT', 'Felony', 'M')]\n",
    "\n",
    "# Fit the ARIMA model\n",
    "model = ARIMA(data, order=(p, d, q))  # Replace p, d, q with appropriate values\n",
    "model_fit = model.fit()\n",
    "\n",
    "# Make predictions\n",
    "predictions = model_fit.predict(start='2020-01-01', end='2020-12-01', dynamic=True)\n"
   ]
  },
  {
   "cell_type": "code",
   "execution_count": null,
   "metadata": {},
   "outputs": [],
   "source": [
    "from statsmodels.tsa.statespace.sarimax import SARIMAX\n",
    "\n",
    "# Example for modeling arrests for Misdemeanor offenses in Brooklyn\n",
    "data = train_arrest_pivot[('ARREST_COUNT', 'Misdemeanor', 'B')]\n",
    "\n",
    "# Fit the SARIMA model\n",
    "model = SARIMAX(data, order=(p, d, q), seasonal_order=(P, D, Q, S))  # Replace p, d, q, P, D, Q, S with appropriate values\n",
    "model_fit = model.fit()\n",
    "\n",
    "# Make predictions\n",
    "predictions = model_fit.predict(start='2020-01-01', end='2020-12-01', dynamic=True)\n"
   ]
  },
  {
   "cell_type": "code",
   "execution_count": 39,
   "metadata": {},
   "outputs": [
    {
     "name": "stderr",
     "output_type": "stream",
     "text": [
      "c:\\Users\\n3mes\\miniconda3\\envs\\DS\\Lib\\site-packages\\tqdm\\auto.py:21: TqdmWarning: IProgress not found. Please update jupyter and ipywidgets. See https://ipywidgets.readthedocs.io/en/stable/user_install.html\n",
      "  from .autonotebook import tqdm as notebook_tqdm\n",
      "Importing plotly failed. Interactive plots will not work.\n"
     ]
    },
    {
     "ename": "KeyError",
     "evalue": "'Key length (3) exceeds index depth (2)'",
     "output_type": "error",
     "traceback": [
      "\u001b[1;31m---------------------------------------------------------------------------\u001b[0m",
      "\u001b[1;31mKeyError\u001b[0m                                  Traceback (most recent call last)",
      "Cell \u001b[1;32mIn[39], line 4\u001b[0m\n\u001b[0;32m      1\u001b[0m \u001b[39mfrom\u001b[39;00m \u001b[39mprophet\u001b[39;00m \u001b[39mimport\u001b[39;00m Prophet\n\u001b[0;32m      3\u001b[0m \u001b[39m# Example for modeling arrests for Violation offenses in Queens\u001b[39;00m\n\u001b[1;32m----> 4\u001b[0m data \u001b[39m=\u001b[39m train_arrest_pivot[(\u001b[39m'\u001b[39;49m\u001b[39mARREST_COUNT\u001b[39;49m\u001b[39m'\u001b[39;49m, \u001b[39m'\u001b[39;49m\u001b[39mViolation\u001b[39;49m\u001b[39m'\u001b[39;49m, \u001b[39m'\u001b[39;49m\u001b[39mQ\u001b[39;49m\u001b[39m'\u001b[39;49m)]\n\u001b[0;32m      6\u001b[0m \u001b[39m# Prepare the data in a Prophet-compatible format\u001b[39;00m\n\u001b[0;32m      7\u001b[0m df \u001b[39m=\u001b[39m pd\u001b[39m.\u001b[39mDataFrame({\u001b[39m'\u001b[39m\u001b[39mds\u001b[39m\u001b[39m'\u001b[39m: data\u001b[39m.\u001b[39mindex, \u001b[39m'\u001b[39m\u001b[39my\u001b[39m\u001b[39m'\u001b[39m: data\u001b[39m.\u001b[39mvalues})\n",
      "File \u001b[1;32mc:\\Users\\n3mes\\miniconda3\\envs\\DS\\Lib\\site-packages\\pandas\\core\\frame.py:3806\u001b[0m, in \u001b[0;36mDataFrame.__getitem__\u001b[1;34m(self, key)\u001b[0m\n\u001b[0;32m   3804\u001b[0m \u001b[39mif\u001b[39;00m is_single_key:\n\u001b[0;32m   3805\u001b[0m     \u001b[39mif\u001b[39;00m \u001b[39mself\u001b[39m\u001b[39m.\u001b[39mcolumns\u001b[39m.\u001b[39mnlevels \u001b[39m>\u001b[39m \u001b[39m1\u001b[39m:\n\u001b[1;32m-> 3806\u001b[0m         \u001b[39mreturn\u001b[39;00m \u001b[39mself\u001b[39;49m\u001b[39m.\u001b[39;49m_getitem_multilevel(key)\n\u001b[0;32m   3807\u001b[0m     indexer \u001b[39m=\u001b[39m \u001b[39mself\u001b[39m\u001b[39m.\u001b[39mcolumns\u001b[39m.\u001b[39mget_loc(key)\n\u001b[0;32m   3808\u001b[0m     \u001b[39mif\u001b[39;00m is_integer(indexer):\n",
      "File \u001b[1;32mc:\\Users\\n3mes\\miniconda3\\envs\\DS\\Lib\\site-packages\\pandas\\core\\frame.py:3857\u001b[0m, in \u001b[0;36mDataFrame._getitem_multilevel\u001b[1;34m(self, key)\u001b[0m\n\u001b[0;32m   3855\u001b[0m \u001b[39mdef\u001b[39;00m \u001b[39m_getitem_multilevel\u001b[39m(\u001b[39mself\u001b[39m, key):\n\u001b[0;32m   3856\u001b[0m     \u001b[39m# self.columns is a MultiIndex\u001b[39;00m\n\u001b[1;32m-> 3857\u001b[0m     loc \u001b[39m=\u001b[39m \u001b[39mself\u001b[39;49m\u001b[39m.\u001b[39;49mcolumns\u001b[39m.\u001b[39;49mget_loc(key)\n\u001b[0;32m   3858\u001b[0m     \u001b[39mif\u001b[39;00m \u001b[39misinstance\u001b[39m(loc, (\u001b[39mslice\u001b[39m, np\u001b[39m.\u001b[39mndarray)):\n\u001b[0;32m   3859\u001b[0m         new_columns \u001b[39m=\u001b[39m \u001b[39mself\u001b[39m\u001b[39m.\u001b[39mcolumns[loc]\n",
      "File \u001b[1;32mc:\\Users\\n3mes\\miniconda3\\envs\\DS\\Lib\\site-packages\\pandas\\core\\indexes\\multi.py:2921\u001b[0m, in \u001b[0;36mMultiIndex.get_loc\u001b[1;34m(self, key, method)\u001b[0m\n\u001b[0;32m   2919\u001b[0m keylen \u001b[39m=\u001b[39m \u001b[39mlen\u001b[39m(key)\n\u001b[0;32m   2920\u001b[0m \u001b[39mif\u001b[39;00m \u001b[39mself\u001b[39m\u001b[39m.\u001b[39mnlevels \u001b[39m<\u001b[39m keylen:\n\u001b[1;32m-> 2921\u001b[0m     \u001b[39mraise\u001b[39;00m \u001b[39mKeyError\u001b[39;00m(\n\u001b[0;32m   2922\u001b[0m         \u001b[39mf\u001b[39m\u001b[39m\"\u001b[39m\u001b[39mKey length (\u001b[39m\u001b[39m{\u001b[39;00mkeylen\u001b[39m}\u001b[39;00m\u001b[39m) exceeds index depth (\u001b[39m\u001b[39m{\u001b[39;00m\u001b[39mself\u001b[39m\u001b[39m.\u001b[39mnlevels\u001b[39m}\u001b[39;00m\u001b[39m)\u001b[39m\u001b[39m\"\u001b[39m\n\u001b[0;32m   2923\u001b[0m     )\n\u001b[0;32m   2925\u001b[0m \u001b[39mif\u001b[39;00m keylen \u001b[39m==\u001b[39m \u001b[39mself\u001b[39m\u001b[39m.\u001b[39mnlevels \u001b[39mand\u001b[39;00m \u001b[39mself\u001b[39m\u001b[39m.\u001b[39mis_unique:\n\u001b[0;32m   2926\u001b[0m     \u001b[39mtry\u001b[39;00m:\n",
      "\u001b[1;31mKeyError\u001b[0m: 'Key length (3) exceeds index depth (2)'"
     ]
    }
   ],
   "source": [
    "from prophet import Prophet\n",
    "\n",
    "# Example for modeling arrests for Violation offenses in Queens\n",
    "data = train_arrest_pivot[('ARREST_COUNT', 'Violation', 'Q')]\n",
    "\n",
    "# Prepare the data in a Prophet-compatible format\n",
    "df = pd.DataFrame({'ds': data.index, 'y': data.values})\n",
    "\n",
    "# Fit the Prophet model\n",
    "model = Prophet()\n",
    "model.fit(df)\n",
    "\n",
    "# Make future predictions\n",
    "future_dates = pd.date_range(start='2020-01-01', end='2020-12-01', freq='M')\n",
    "future = pd.DataFrame({'ds': future_dates})\n",
    "forecast = model.predict(future)\n"
   ]
  },
  {
   "attachments": {},
   "cell_type": "markdown",
   "metadata": {},
   "source": [
    "Hyperparameter Tuning for models!"
   ]
  },
  {
   "cell_type": "code",
   "execution_count": 59,
   "metadata": {},
   "outputs": [
    {
     "name": "stdout",
     "output_type": "stream",
     "text": [
      "['LAW_CAT_CD', 'ARREST_BORO']\n"
     ]
    }
   ],
   "source": [
    "train_arrest_pivot\n",
    "print(train_arrest_pivot.columns.names)"
   ]
  },
  {
   "cell_type": "code",
   "execution_count": 63,
   "metadata": {},
   "outputs": [
    {
     "name": "stdout",
     "output_type": "stream",
     "text": [
      "12\n"
     ]
    },
    {
     "data": {
      "image/png": "[encoded data removed]",
      "text/plain": [
       "<Figure size 1200x600 with 1 Axes>"
      ]
     },
     "metadata": {},
     "output_type": "display_data"
    },
    {
     "ename": "ValueError",
     "evalue": "Can only compute partial correlations for lags up to 50% of the sample size. The requested nlags 11 must be < 6.",
     "output_type": "error",
     "traceback": [
      "\u001b[1;31m---------------------------------------------------------------------------\u001b[0m",
      "\u001b[1;31mValueError\u001b[0m                                Traceback (most recent call last)",
      "Cell \u001b[1;32mIn[63], line 20\u001b[0m\n\u001b[0;32m     17\u001b[0m plt\u001b[39m.\u001b[39mshow()\n\u001b[0;32m     19\u001b[0m fig, ax \u001b[39m=\u001b[39m plt\u001b[39m.\u001b[39msubplots(figsize\u001b[39m=\u001b[39m(\u001b[39m12\u001b[39m, \u001b[39m6\u001b[39m))\n\u001b[1;32m---> 20\u001b[0m sm\u001b[39m.\u001b[39;49mgraphics\u001b[39m.\u001b[39;49mtsa\u001b[39m.\u001b[39;49mplot_pacf(data, lags\u001b[39m=\u001b[39;49m\u001b[39m11\u001b[39;49m, ax\u001b[39m=\u001b[39;49max)\n\u001b[0;32m     21\u001b[0m plt\u001b[39m.\u001b[39mxlabel(\u001b[39m'\u001b[39m\u001b[39mLag\u001b[39m\u001b[39m'\u001b[39m)\n\u001b[0;32m     22\u001b[0m plt\u001b[39m.\u001b[39mylabel(\u001b[39m'\u001b[39m\u001b[39mPartial Autocorrelation\u001b[39m\u001b[39m'\u001b[39m)\n",
      "File \u001b[1;32mc:\\Users\\n3mes\\miniconda3\\envs\\DS\\Lib\\site-packages\\statsmodels\\graphics\\tsaplots.py:353\u001b[0m, in \u001b[0;36mplot_pacf\u001b[1;34m(x, ax, lags, alpha, method, use_vlines, title, zero, vlines_kwargs, **kwargs)\u001b[0m\n\u001b[0;32m    351\u001b[0m     acf_x \u001b[39m=\u001b[39m pacf(x, nlags\u001b[39m=\u001b[39mnlags, alpha\u001b[39m=\u001b[39malpha, method\u001b[39m=\u001b[39mmethod)\n\u001b[0;32m    352\u001b[0m \u001b[39melse\u001b[39;00m:\n\u001b[1;32m--> 353\u001b[0m     acf_x, confint \u001b[39m=\u001b[39m pacf(x, nlags\u001b[39m=\u001b[39;49mnlags, alpha\u001b[39m=\u001b[39;49malpha, method\u001b[39m=\u001b[39;49mmethod)\n\u001b[0;32m    355\u001b[0m _plot_corr(\n\u001b[0;32m    356\u001b[0m     ax,\n\u001b[0;32m    357\u001b[0m     title,\n\u001b[1;32m   (...)\u001b[0m\n\u001b[0;32m    364\u001b[0m     \u001b[39m*\u001b[39m\u001b[39m*\u001b[39mkwargs,\n\u001b[0;32m    365\u001b[0m )\n\u001b[0;32m    367\u001b[0m \u001b[39mreturn\u001b[39;00m fig\n",
      "File \u001b[1;32mc:\\Users\\n3mes\\miniconda3\\envs\\DS\\Lib\\site-packages\\statsmodels\\tsa\\stattools.py:1009\u001b[0m, in \u001b[0;36mpacf\u001b[1;34m(x, nlags, method, alpha)\u001b[0m\n\u001b[0;32m   1007\u001b[0m     nlags \u001b[39m=\u001b[39m \u001b[39mmin\u001b[39m(\u001b[39mint\u001b[39m(\u001b[39m10\u001b[39m \u001b[39m*\u001b[39m np\u001b[39m.\u001b[39mlog10(nobs)), nobs \u001b[39m/\u001b[39m\u001b[39m/\u001b[39m \u001b[39m2\u001b[39m \u001b[39m-\u001b[39m \u001b[39m1\u001b[39m)\n\u001b[0;32m   1008\u001b[0m \u001b[39mif\u001b[39;00m nlags \u001b[39m>\u001b[39m\u001b[39m=\u001b[39m x\u001b[39m.\u001b[39mshape[\u001b[39m0\u001b[39m] \u001b[39m/\u001b[39m\u001b[39m/\u001b[39m \u001b[39m2\u001b[39m:\n\u001b[1;32m-> 1009\u001b[0m     \u001b[39mraise\u001b[39;00m \u001b[39mValueError\u001b[39;00m(\n\u001b[0;32m   1010\u001b[0m         \u001b[39m\"\u001b[39m\u001b[39mCan only compute partial correlations for lags up to 50\u001b[39m\u001b[39m% o\u001b[39;00m\u001b[39mf the \u001b[39m\u001b[39m\"\u001b[39m\n\u001b[0;32m   1011\u001b[0m         \u001b[39mf\u001b[39m\u001b[39m\"\u001b[39m\u001b[39msample size. The requested nlags \u001b[39m\u001b[39m{\u001b[39;00mnlags\u001b[39m}\u001b[39;00m\u001b[39m must be < \u001b[39m\u001b[39m\"\u001b[39m\n\u001b[0;32m   1012\u001b[0m         \u001b[39mf\u001b[39m\u001b[39m\"\u001b[39m\u001b[39m{\u001b[39;00mx\u001b[39m.\u001b[39mshape[\u001b[39m0\u001b[39m]\u001b[39m \u001b[39m\u001b[39m/\u001b[39m\u001b[39m/\u001b[39m\u001b[39m \u001b[39m\u001b[39m2\u001b[39m\u001b[39m}\u001b[39;00m\u001b[39m.\u001b[39m\u001b[39m\"\u001b[39m\n\u001b[0;32m   1013\u001b[0m     )\n\u001b[0;32m   1015\u001b[0m \u001b[39mif\u001b[39;00m method \u001b[39min\u001b[39;00m (\u001b[39m\"\u001b[39m\u001b[39mols\u001b[39m\u001b[39m\"\u001b[39m, \u001b[39m\"\u001b[39m\u001b[39mols-inefficient\u001b[39m\u001b[39m\"\u001b[39m, \u001b[39m\"\u001b[39m\u001b[39mols-adjusted\u001b[39m\u001b[39m\"\u001b[39m):\n\u001b[0;32m   1016\u001b[0m     efficient \u001b[39m=\u001b[39m \u001b[39m\"\u001b[39m\u001b[39minefficient\u001b[39m\u001b[39m\"\u001b[39m \u001b[39mnot\u001b[39;00m \u001b[39min\u001b[39;00m method\n",
      "\u001b[1;31mValueError\u001b[0m: Can only compute partial correlations for lags up to 50% of the sample size. The requested nlags 11 must be < 6."
     ]
    },
    {
     "data": {
      "image/png": "[encoded data removed]",
      "text/plain": [
       "<Figure size 1200x600 with 1 Axes>"
      ]
     },
     "metadata": {},
     "output_type": "display_data"
    }
   ],
   "source": [
    "## ARIMA Hyperparameter Tuning\n",
    "\n",
    "import pandas as pd\n",
    "import statsmodels.api as sm\n",
    "import matplotlib.pyplot as plt\n",
    "\n",
    "# Prepare the data in a pandas DataFrame\n",
    "data = train_arrest_pivot.xs(('Felony', 'M'), level=('LAW_CAT_CD', 'ARREST_BORO'), axis=1)\n",
    "print(len(data))\n",
    "\n",
    "# Plot ACF and PACF to identify initial parameter values\n",
    "fig, ax = plt.subplots(figsize=(12, 6))\n",
    "sm.graphics.tsa.plot_acf(data, lags=11, ax=ax)\n",
    "plt.xlabel('Lag')\n",
    "plt.ylabel('Autocorrelation')\n",
    "plt.title('Autocorrelation Function (ACF)')\n",
    "plt.show()\n",
    "\n",
    "fig, ax = plt.subplots(figsize=(12, 6))\n",
    "sm.graphics.tsa.plot_pacf(data, lags=11, ax=ax)\n",
    "plt.xlabel('Lag')\n",
    "plt.ylabel('Partial Autocorrelation')\n",
    "plt.title('Partial Autocorrelation Function (PACF)')\n",
    "plt.show()\n",
    "\n",
    "# Define a function to evaluate ARIMA models and return AIC and BIC\n",
    "def evaluate_arima_model(order):\n",
    "    model = sm.tsa.ARIMA(data, order=order)\n",
    "    model_fit = model.fit()\n",
    "    aic = model_fit.aic\n",
    "    bic = model_fit.bic\n",
    "    return aic, bic\n",
    "\n",
    "# Define ranges for p, d, and q\n",
    "p_values = range(0, 4)  # Example range for p\n",
    "d_values = range(0, 2)  # Example range for d\n",
    "q_values = range(0, 4)  # Example range for q\n",
    "\n",
    "best_aic = float('inf')\n",
    "best_bic = float('inf')\n",
    "best_order = None\n",
    "\n",
    "# Iterate over all possible combinations of p, d, and q values\n",
    "for p in p_values:\n",
    "    for d in d_values:\n",
    "        for q in q_values:\n",
    "            order = (p, d, q)\n",
    "            try:\n",
    "                aic, bic = evaluate_arima_model(order)\n",
    "                if aic < best_aic:\n",
    "                    best_aic = aic\n",
    "                    best_bic = bic\n",
    "                    best_order = order\n",
    "            except:\n",
    "                continue\n",
    "\n",
    "print(\"Best AIC:\", best_aic)\n",
    "print(\"Best BIC:\", best_bic)\n",
    "print(\"Best Order:\", best_order)\n"
   ]
  },
  {
   "cell_type": "code",
   "execution_count": 43,
   "metadata": {},
   "outputs": [
    {
     "name": "stdout",
     "output_type": "stream",
     "text": [
      "['ARREST_DATE']\n",
      "DatetimeIndex(['2019-01-31', '2019-02-28', '2019-03-31', '2019-04-30',\n",
      "               '2019-05-31', '2019-06-30', '2019-07-31', '2019-08-31',\n",
      "               '2019-09-30', '2019-10-31', '2019-11-30', '2019-12-31'],\n",
      "              dtype='datetime64[ns]', name='ARREST_DATE', freq=None)\n"
     ]
    }
   ],
   "source": [
    "\n"
   ]
  }
 ],
 "metadata": {
  "kernelspec": {
   "display_name": "DS",
   "language": "python",
   "name": "python3"
  },
  "language_info": {
   "codemirror_mode": {
    "name": "ipython",
    "version": 3
   },
   "file_extension": ".py",
   "mimetype": "text/x-python",
   "name": "python",
   "nbconvert_exporter": "python",
   "pygments_lexer": "ipython3",
   "version": "3.11.3"
  },
  "orig_nbformat": 4
 },
 "nbformat": 4,
 "nbformat_minor": 2
}
